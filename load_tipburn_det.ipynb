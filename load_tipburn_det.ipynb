{
 "cells": [
  {
   "cell_type": "markdown",
   "metadata": {},
   "source": [
    "Load dataset"
   ]
  },
  {
   "cell_type": "code",
   "execution_count": null,
   "metadata": {},
   "outputs": [],
   "source": [
    "# %%capture\n",
    "# !pip install ultralytics\n",
    "# !pip install roboflow\n",
    "\n",
    "# from roboflow import Roboflow\n",
    "# rf = Roboflow(api_key=\"Ql1dOvGZp8vqTAnCTntx\")\n",
    "# project = rf.workspace(\"kiyong-kang-qhti3\").project(\"plants-2l8n0\")\n",
    "# dataset = project.version(8).download(\"yolov8\")"
   ]
  },
  {
   "cell_type": "markdown",
   "metadata": {},
   "source": [
    "Import libraries"
   ]
  },
  {
   "cell_type": "code",
   "execution_count": 15,
   "metadata": {},
   "outputs": [],
   "source": [
    "import os\n",
    "import shutil\n",
    "import copy\n",
    "import glob\n",
    "import random"
   ]
  },
  {
   "cell_type": "markdown",
   "metadata": {},
   "source": [
    "Create tip burn directory"
   ]
  },
  {
   "cell_type": "code",
   "execution_count": 2,
   "metadata": {},
   "outputs": [],
   "source": [
    "if not os.path.exists('./Plants-tipburn/train/images'):\n",
    "    os.makedirs('./Plants-tipburn/train/images')\n",
    "\n",
    "if not os.path.exists('./Plants-tipburn/train/labels'):\n",
    "    os.makedirs('./Plants-tipburn/train/labels')\n",
    "\n",
    "if not os.path.exists('./Plants-tipburn/valid/images'):\n",
    "    os.makedirs('./Plants-tipburn/valid/images')\n",
    "\n",
    "if not os.path.exists('./Plants-tipburn/valid/labels'):\n",
    "    os.makedirs('./Plants-tipburn/valid/labels')"
   ]
  },
  {
   "cell_type": "code",
   "execution_count": 3,
   "metadata": {},
   "outputs": [],
   "source": [
    "t_labels = os.listdir('./Plants-8/train/labels')\n",
    "v_labels = os.listdir('./Plants-8/valid/labels')\n",
    "\n",
    "train_src = './Plants-8/train'\n",
    "val_src = './Plants-8/valid'\n",
    "\n",
    "train_dir = './Plants-tipburn/train'\n",
    "val_dir = './Plants-tipburn/valid'"
   ]
  },
  {
   "cell_type": "markdown",
   "metadata": {},
   "source": [
    "Filter tipburn files for object detection"
   ]
  },
  {
   "cell_type": "code",
   "execution_count": 8,
   "metadata": {},
   "outputs": [],
   "source": [
    "def filter_tipburn_det(src, labels):\n",
    "    det_files = []\n",
    "\n",
    "    for label_name in labels:\n",
    "        filename = label_name[:-4]\n",
    "        label_dir = src + '/labels/' + filename + '.txt'\n",
    "        with open(label_dir, 'r') as f:\n",
    "            objs = f.readlines()\n",
    "\n",
    "        n_obj_tipburn = 0\n",
    "        objs_tipburn = []\n",
    "        objs_others = []\n",
    "\n",
    "        for obj in objs:\n",
    "            if obj[0] == '0':\n",
    "                n_obj_tipburn += 1\n",
    "                objs_tipburn.append(obj)\n",
    "            else:\n",
    "                objs_others.append(obj)\n",
    "\n",
    "        if n_obj_tipburn == len(objs):\n",
    "            filename_tipburn = filename + '.tipburn'\n",
    "            label_dir_tipburn = src + '/labels/' + filename_tipburn + '.txt'\n",
    "            image_dir = src + '/images/' + filename + '.jpg'\n",
    "            image_dir_tipburn = src + '/images/' + filename_tipburn + '.jpg'\n",
    "            det_files.append(filename_tipburn)\n",
    "            os.rename(label_dir, label_dir_tipburn)\n",
    "            os.rename(image_dir, image_dir_tipburn)\n",
    "        elif n_obj_tipburn < len(objs) and n_obj_tipburn > 0:\n",
    "            filename_tipburn = filename + '.tipburn'\n",
    "            label_dir_tipburn = src + '/labels/' + filename_tipburn + '.txt'\n",
    "            image_dir = src + '/images/' + filename + '.jpg'\n",
    "            image_dir_tipburn = src + '/images/' + filename_tipburn + '.jpg'\n",
    "            det_files.append(filename_tipburn)\n",
    "            shutil.copy(image_dir, image_dir_tipburn)\n",
    "            with open(label_dir_tipburn, 'w') as f2:\n",
    "                f2.writelines(objs_tipburn)\n",
    "            with open(label_dir, 'w') as f3:\n",
    "                f3.writelines(objs_others)\n",
    "        elif n_obj_tipburn == 0:\n",
    "            continue\n",
    "\n",
    "    return det_files"
   ]
  },
  {
   "cell_type": "code",
   "execution_count": 9,
   "metadata": {},
   "outputs": [],
   "source": [
    "det_t_files = filter_tipburn_det(train_src, t_labels)\n",
    "det_v_files = filter_tipburn_det(val_src, v_labels)"
   ]
  },
  {
   "cell_type": "code",
   "execution_count": 10,
   "metadata": {},
   "outputs": [
    {
     "name": "stdout",
     "output_type": "stream",
     "text": [
      "Number of train data:  1458\n",
      "Number of train tip burn data:  384\n",
      "Number of valid data:  133\n",
      "Number of valid valid data:  4\n"
     ]
    }
   ],
   "source": [
    "print('Number of train data: ', len(t_labels))\n",
    "print('Number of train tip burn data: ', len(det_t_files))\n",
    "print('Number of valid data: ', len(v_labels))\n",
    "print('Number of valid valid data: ', len(det_v_files))"
   ]
  },
  {
   "cell_type": "markdown",
   "metadata": {},
   "source": [
    "Move tip burn images/labels for object detection"
   ]
  },
  {
   "cell_type": "code",
   "execution_count": 11,
   "metadata": {},
   "outputs": [],
   "source": [
    "def move_files(src, dir, files):\n",
    "    for filename in files:\n",
    "        shutil.move(src + '/images/' + filename + '.jpg', dir + '/images/' + filename + '.jpg')\n",
    "        shutil.move(src + '/labels/' + filename + '.txt', dir + '/labels/' + filename + '.txt')"
   ]
  },
  {
   "cell_type": "code",
   "execution_count": 12,
   "metadata": {},
   "outputs": [],
   "source": [
    "move_files(train_src, train_dir, det_t_files)\n",
    "move_files(val_src, val_dir, det_v_files)"
   ]
  },
  {
   "cell_type": "code",
   "execution_count": 13,
   "metadata": {},
   "outputs": [
    {
     "name": "stdout",
     "output_type": "stream",
     "text": [
      "Number of train data:  1443 / 1443\n",
      "Number of valid data:  133 / 133\n",
      "Number of tipburn train images/labels:  384 / 384\n",
      "Number of tipburn valid images/labels:  4 / 4\n"
     ]
    }
   ],
   "source": [
    "print('Number of train data: ', len(os.listdir(train_src + '/images')), '/', len(os.listdir(train_src + '/labels')))\n",
    "print('Number of valid data: ', len(os.listdir(val_src + '/images')), '/', len(os.listdir(val_src + '/labels')))\n",
    "print('Number of tipburn train images/labels: ', len(os.listdir(train_dir + '/images')), '/', len(os.listdir(train_dir + '/labels')))\n",
    "print('Number of tipburn valid images/labels: ', len(os.listdir(val_dir + '/images')), '/', len(os.listdir(val_dir + '/labels')))"
   ]
  },
  {
   "cell_type": "markdown",
   "metadata": {},
   "source": [
    "Increase validation dataset"
   ]
  },
  {
   "cell_type": "code",
   "execution_count": 18,
   "metadata": {},
   "outputs": [],
   "source": [
    "x = os.listdir(train_dir + '/images')\n",
    "x_val = random.sample(x, 6)\n",
    "x_val = [i[:-4] for i in x_val]\n",
    "\n",
    "move_files(train_dir, val_dir, x_val)"
   ]
  },
  {
   "cell_type": "code",
   "execution_count": 19,
   "metadata": {},
   "outputs": [
    {
     "name": "stdout",
     "output_type": "stream",
     "text": [
      "Number of tipburn train images/labels:  378 / 378\n",
      "Number of tipburn valid images/labels:  10 / 10\n"
     ]
    }
   ],
   "source": [
    "print('Number of tipburn train images/labels: ', len(os.listdir(train_dir + '/images')), '/', len(os.listdir(train_dir + '/labels')))\n",
    "print('Number of tipburn valid images/labels: ', len(os.listdir(val_dir + '/images')), '/', len(os.listdir(val_dir + '/labels')))"
   ]
  },
  {
   "cell_type": "markdown",
   "metadata": {},
   "source": [
    "Modify labels in Plants-8\n",
    "- butterhead lettuce: 1 -> 0\n",
    "- romaine lettuce: 2 -> 1"
   ]
  },
  {
   "cell_type": "code",
   "execution_count": 16,
   "metadata": {},
   "outputs": [],
   "source": [
    "def modify_labels(dir):\n",
    "    files = glob.glob(dir)\n",
    "    for file in files:\n",
    "        with open(file, 'r') as f:\n",
    "            labels = f.readlines()\n",
    "        for i, label in enumerate(labels):\n",
    "            if label[0] == '1':\n",
    "                labels[i] = '0' + label[1:]\n",
    "            elif label[0] == '2':\n",
    "                labels[i] = '1' + label[1:]\n",
    "\n",
    "        with open(file, 'w') as f:\n",
    "            f.writelines(labels)"
   ]
  },
  {
   "cell_type": "code",
   "execution_count": 17,
   "metadata": {},
   "outputs": [],
   "source": [
    "modify_labels('./Plants-8/train/labels/*.txt')\n",
    "modify_labels('./Plants-8/valid/labels/*.txt')"
   ]
  }
 ],
 "metadata": {
  "kernelspec": {
   "display_name": "Python 3",
   "language": "python",
   "name": "python3"
  },
  "language_info": {
   "codemirror_mode": {
    "name": "ipython",
    "version": 3
   },
   "file_extension": ".py",
   "mimetype": "text/x-python",
   "name": "python",
   "nbconvert_exporter": "python",
   "pygments_lexer": "ipython3",
   "version": "3.8.3"
  }
 },
 "nbformat": 4,
 "nbformat_minor": 4
}
