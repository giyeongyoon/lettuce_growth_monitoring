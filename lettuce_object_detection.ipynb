{
  "nbformat": 4,
  "nbformat_minor": 0,
  "metadata": {
    "colab": {
      "provenance": []
    },
    "kernelspec": {
      "name": "python3",
      "display_name": "Python 3"
    },
    "language_info": {
      "name": "python"
    }
  },
  "cells": [
    {
      "cell_type": "markdown",
      "source": [
        "Load dataset"
      ],
      "metadata": {
        "id": "DBNaUkV4G6ES"
      }
    },
    {
      "cell_type": "code",
      "execution_count": 2,
      "metadata": {
        "id": "ZAwhR38huemg"
      },
      "outputs": [],
      "source": [
        "%%capture\n",
        "!pip install ultralytics\n",
        "!pip install roboflow\n",
        "\n",
        "from roboflow import Roboflow\n",
        "rf = Roboflow(api_key=\"Ql1dOvGZp8vqTAnCTntx\")\n",
        "project = rf.workspace(\"kiyong-kang-qhti3\").project(\"plants-2l8n0\")\n",
        "dataset = project.version(8).download(\"yolov8\")"
      ]
    },
    {
      "cell_type": "code",
      "source": [
        "import os\n",
        "import shutil\n",
        "import copy\n",
        "import yaml\n",
        "from ultralytics import YOLO\n",
        "import glob"
      ],
      "metadata": {
        "id": "HRKfGYwURSND"
      },
      "execution_count": 18,
      "outputs": []
    },
    {
      "cell_type": "markdown",
      "source": [
        "Segmentation directory"
      ],
      "metadata": {
        "id": "5Bpxb_zeHIkv"
      }
    },
    {
      "cell_type": "code",
      "source": [
        "if not os.path.exists('./Plants-seg/train/images'):\n",
        "    os.makedirs('./Plants-seg/train/images')\n",
        "\n",
        "if not os.path.exists('./Plants-seg/train/labels'):\n",
        "    os.makedirs('./Plants-seg/train/labels')\n",
        "\n",
        "if not os.path.exists('./Plants-seg/valid/images'):\n",
        "    os.makedirs('./Plants-seg/valid/images')\n",
        "\n",
        "if not os.path.exists('./Plants-seg/valid/labels'):\n",
        "    os.makedirs('./Plants-seg/valid/labels')"
      ],
      "metadata": {
        "id": "JAy_q5yB5MY_"
      },
      "execution_count": 4,
      "outputs": []
    },
    {
      "cell_type": "code",
      "source": [
        "t_labels = os.listdir('./Plants-8/train/labels')\n",
        "v_labels = os.listdir('./Plants-8/valid/labels')\n",
        "\n",
        "train_src = './Plants-8/train'\n",
        "val_src = './Plants-8/valid'\n",
        "\n",
        "train_dir = './Plants-seg/train'\n",
        "val_dir = './Plants-seg/valid'"
      ],
      "metadata": {
        "id": "p4EpfrIB9yV2"
      },
      "execution_count": 5,
      "outputs": []
    },
    {
      "cell_type": "markdown",
      "source": [
        "Prepare for moving tip burn images/labels for segmentation"
      ],
      "metadata": {
        "id": "PkX79OFXHhiB"
      }
    },
    {
      "cell_type": "code",
      "source": [
        "def prepare_seg_dir(src, labels):\n",
        "    seg_files = []\n",
        "\n",
        "    for label_name in labels:\n",
        "        filename = label_name[:-4]\n",
        "        label_dir = src + '/labels/' + filename + '.txt'\n",
        "        with open(label_dir, 'r') as f:\n",
        "            objs = f.readlines()\n",
        "\n",
        "        n_obj_tipburn = 0\n",
        "        objs_tipburn = []\n",
        "        objs_others = []\n",
        "\n",
        "        for obj in objs:\n",
        "            if obj[0] == '0':\n",
        "                n_obj_tipburn += 1\n",
        "                objs_tipburn.append(obj)\n",
        "            else:\n",
        "                objs_others.append(obj)\n",
        "\n",
        "        # if len(objs_tipburn) > 0:\n",
        "        #     if objs_tipburn[-1][-1:] == '\\n':\n",
        "        #         objs_tipburn[-1] = objs_tipburn[-1][:-1]\n",
        "\n",
        "        # if len(objs_others) > 0:\n",
        "        #     if objs_others[-1][-1:] == '\\n':\n",
        "        #         objs_others[-1] = objs_others[-1][:-1]\n",
        "\n",
        "        if n_obj_tipburn == len(objs):\n",
        "            filename_tipburn = filename + '.tipburn'\n",
        "            label_dir_tipburn = src + '/labels/' + filename_tipburn + '.txt'\n",
        "            image_dir = src + '/images/' + filename + '.jpg'\n",
        "            image_dir_tipburn = src + '/images/' + filename_tipburn + '.jpg'\n",
        "            seg_files.append(filename_tipburn)\n",
        "            os.rename(label_dir, label_dir_tipburn)\n",
        "            os.rename(image_dir, image_dir_tipburn)\n",
        "        elif n_obj_tipburn < len(objs) and n_obj_tipburn > 0:\n",
        "            filename_tipburn = filename + '.tipburn'\n",
        "            label_dir_tipburn = src + '/labels/' + filename_tipburn + '.txt'\n",
        "            image_dir = src + '/images/' + filename + '.jpg'\n",
        "            image_dir_tipburn = src + '/images/' + filename_tipburn + '.jpg'\n",
        "            seg_files.append(filename_tipburn)\n",
        "            shutil.copy(image_dir, image_dir_tipburn)\n",
        "            with open(label_dir_tipburn, 'w') as f2:\n",
        "                f2.writelines(objs_tipburn)\n",
        "            with open(label_dir, 'w') as f3:\n",
        "                f3.writelines(objs_others)\n",
        "        elif n_obj_tipburn == 0:\n",
        "            continue\n",
        "\n",
        "    return seg_files"
      ],
      "metadata": {
        "id": "6VIdpbNf_MPl"
      },
      "execution_count": 6,
      "outputs": []
    },
    {
      "cell_type": "code",
      "source": [
        "seg_t_files = prepare_seg_dir(train_src, t_labels)\n",
        "seg_v_files = prepare_seg_dir(val_src, v_labels)"
      ],
      "metadata": {
        "id": "yTb4nj_4ADd8"
      },
      "execution_count": 7,
      "outputs": []
    },
    {
      "cell_type": "code",
      "source": [
        "print('Number of train data: ', len(t_labels))\n",
        "print('Number of train tip burn data: ', len(seg_t_files))\n",
        "print('Number of valid data: ', len(v_labels))\n",
        "print('Number of valid valid data: ', len(seg_v_files))"
      ],
      "metadata": {
        "colab": {
          "base_uri": "https://localhost:8080/"
        },
        "id": "PH-etWEemlXB",
        "outputId": "e052a69e-870a-45de-8e3a-c1a897fd1f00"
      },
      "execution_count": 8,
      "outputs": [
        {
          "output_type": "stream",
          "name": "stdout",
          "text": [
            "Number of train data:  1517\n",
            "Number of train tip burn data:  440\n",
            "Number of valid data:  133\n",
            "Number of valid valid data:  4\n"
          ]
        }
      ]
    },
    {
      "cell_type": "markdown",
      "source": [
        "Move tip burn images/labels for segmentation"
      ],
      "metadata": {
        "id": "mJ5rJVG9Hw61"
      }
    },
    {
      "cell_type": "code",
      "source": [
        "def move_seg_files(src, dir, seg_files):\n",
        "    for filename in seg_files:\n",
        "        shutil.move(src + '/images/' + filename + '.jpg', dir + '/images/' + filename + '.jpg')\n",
        "        shutil.move(src + '/labels/' + filename + '.txt', dir + '/labels/' + filename + '.txt')"
      ],
      "metadata": {
        "id": "MZYT5tjQo6Cm"
      },
      "execution_count": 9,
      "outputs": []
    },
    {
      "cell_type": "code",
      "source": [
        "move_seg_files(train_src, train_dir, seg_t_files)\n",
        "move_seg_files(val_src, val_dir, seg_v_files)"
      ],
      "metadata": {
        "id": "1kejcQzT8PmR"
      },
      "execution_count": 10,
      "outputs": []
    },
    {
      "cell_type": "code",
      "source": [
        "print('Number of train data: ', len(os.listdir(train_src + '/images')), '/', len(os.listdir(train_src + '/labels')))\n",
        "print('Number of valid data: ', len(os.listdir(val_src + '/images')), '/', len(os.listdir(val_src + '/labels')))\n",
        "print('Number of tipburn train images/labels: ', len(os.listdir(train_dir + '/images')), '/', len(os.listdir(train_dir + '/labels')))\n",
        "print('Number of tipburn valid images/labels: ', len(os.listdir(val_dir + '/images')), '/', len(os.listdir(val_dir + '/labels')))"
      ],
      "metadata": {
        "colab": {
          "base_uri": "https://localhost:8080/"
        },
        "id": "Y0fiBev68kPV",
        "outputId": "26334476-3e5c-474c-94a8-c781ab76079f"
      },
      "execution_count": 11,
      "outputs": [
        {
          "output_type": "stream",
          "name": "stdout",
          "text": [
            "Number of train data:  1499 / 1499\n",
            "Number of valid data:  133 / 133\n",
            "Number of tipburn train images/labels:  440 / 440\n",
            "Number of tipburn valid images/labels:  4 / 4\n"
          ]
        }
      ]
    },
    {
      "cell_type": "markdown",
      "source": [
        "Modify labels"
      ],
      "metadata": {
        "id": "dGy-8jkKd95M"
      }
    },
    {
      "cell_type": "code",
      "source": [
        "def modify_labels(dir):\n",
        "    files = glob.glob(dir)\n",
        "    for file in files:\n",
        "        with open(file, 'r') as f:\n",
        "            labels = f.readlines()\n",
        "        for i, label in enumerate(labels):\n",
        "            if label[0] == '1':\n",
        "                labels[i] = '0' + label[1:]\n",
        "            elif label[0] == '2':\n",
        "                labels[i] = '1' + label[1:]\n",
        "\n",
        "        with open(file, 'w') as f:\n",
        "            f.writelines(labels)"
      ],
      "metadata": {
        "id": "XAzxhSATeE5L"
      },
      "execution_count": 19,
      "outputs": []
    },
    {
      "cell_type": "code",
      "source": [
        "modify_labels('./Plants-8/train/labels/*.txt')\n",
        "modify_labels('./Plants-8/valid/labels/*.txt')"
      ],
      "metadata": {
        "id": "0YsC0brkl0aJ"
      },
      "execution_count": 20,
      "outputs": []
    },
    {
      "cell_type": "markdown",
      "source": [
        "Change config yaml for object detection"
      ],
      "metadata": {
        "id": "AiAmM6W9I4KG"
      }
    },
    {
      "cell_type": "code",
      "source": [
        "with open('./Plants-8/data.yaml') as f:\n",
        "    config = yaml.load(f, Loader=yaml.FullLoader)\n",
        "    display(config)"
      ],
      "metadata": {
        "colab": {
          "base_uri": "https://localhost:8080/",
          "height": 204
        },
        "id": "XDW2E_8PK96L",
        "outputId": "1000e72d-692c-4eed-b6e9-d572a97d753f"
      },
      "execution_count": 21,
      "outputs": [
        {
          "output_type": "display_data",
          "data": {
            "text/plain": [
              "{'names': ['Tip_Burn', 'butterhead lettuce', 'romaine lettuce'],\n",
              " 'nc': 3,\n",
              " 'roboflow': {'license': 'CC BY 4.0',\n",
              "  'project': 'plants-2l8n0',\n",
              "  'url': 'https://universe.roboflow.com/kiyong-kang-qhti3/plants-2l8n0/dataset/8',\n",
              "  'version': 8,\n",
              "  'workspace': 'kiyong-kang-qhti3'},\n",
              " 'test': '../test/images',\n",
              " 'train': 'Plants-8/train/images',\n",
              " 'val': 'Plants-8/valid/images'}"
            ]
          },
          "metadata": {}
        }
      ]
    },
    {
      "cell_type": "code",
      "source": [
        "config['names'] = ['butterhead lettuce', 'romaine lettuce']\n",
        "config['nc'] = 2\n",
        "config['train'] = '/content/Plants-8/train/images'\n",
        "config['val'] = '/content/Plants-8/valid/images'"
      ],
      "metadata": {
        "id": "D8vHYoRaMhdE"
      },
      "execution_count": 22,
      "outputs": []
    },
    {
      "cell_type": "code",
      "source": [
        "with open('./Plants-8/data.yaml', 'w') as file:\n",
        "    yaml.dump(config, file, default_flow_style=False)"
      ],
      "metadata": {
        "id": "KDAILcZYNcjL"
      },
      "execution_count": 23,
      "outputs": []
    },
    {
      "cell_type": "markdown",
      "source": [
        "Create config yaml for segmentation and"
      ],
      "metadata": {
        "id": "L6dRBxFvRo6I"
      }
    },
    {
      "cell_type": "code",
      "source": [
        "config_seg = copy.copy(config)\n",
        "config_seg['names'] = ['Tip_Burn']\n",
        "config_seg['nc'] = 1\n",
        "config_seg['train'] = '/content/Plants-seg/train/images'\n",
        "config_seg['val'] = '/content/Plants-seg/valid/images'"
      ],
      "metadata": {
        "id": "AficC9cTOJbC"
      },
      "execution_count": 24,
      "outputs": []
    },
    {
      "cell_type": "code",
      "source": [
        "with open('./Plants-seg/data.yaml', 'w') as file:\n",
        "    yaml.dump(config_seg, file, default_flow_style=False)"
      ],
      "metadata": {
        "id": "ShBeEL_nQP6p"
      },
      "execution_count": 25,
      "outputs": []
    },
    {
      "cell_type": "markdown",
      "source": [
        "Yolov8 - object detection"
      ],
      "metadata": {
        "id": "o_kvsF68TgAS"
      }
    },
    {
      "cell_type": "markdown",
      "source": [
        "Load model"
      ],
      "metadata": {
        "id": "ydVF7eFeTz22"
      }
    },
    {
      "cell_type": "code",
      "source": [
        "model = YOLO('yolov8n.pt')"
      ],
      "metadata": {
        "colab": {
          "base_uri": "https://localhost:8080/"
        },
        "id": "farrB4lvQ7VI",
        "outputId": "c93ac4fd-49b6-41d9-b6b3-c3c9610eaa12"
      },
      "execution_count": 26,
      "outputs": [
        {
          "output_type": "stream",
          "name": "stderr",
          "text": [
            "100%|██████████| 6.23M/6.23M [00:00<00:00, 74.1MB/s]\n"
          ]
        }
      ]
    },
    {
      "cell_type": "markdown",
      "source": [
        "Train model"
      ],
      "metadata": {
        "id": "CDzipN7ZT2D8"
      }
    },
    {
      "cell_type": "code",
      "source": [
        "results = model.train(data='/content/Plants-8/data.yaml', epochs=100, imgsz=640)"
      ],
      "metadata": {
        "id": "_66Hi6uUT3mK"
      },
      "execution_count": null,
      "outputs": []
    },
    {
      "cell_type": "code",
      "source": [],
      "metadata": {
        "id": "lZNMUojRUdq6"
      },
      "execution_count": null,
      "outputs": []
    }
  ]
}