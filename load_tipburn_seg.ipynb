{
 "cells": [
  {
   "cell_type": "markdown",
   "metadata": {
    "colab_type": "text",
    "id": "view-in-github"
   },
   "source": [
    "<a href=\"https://colab.research.google.com/github/giyeongyoon/lettuce_growth_monitoring/blob/main/lettuce_object_detection.ipynb\" target=\"_parent\"><img src=\"https://colab.research.google.com/assets/colab-badge.svg\" alt=\"Open In Colab\"/></a>"
   ]
  },
  {
   "cell_type": "markdown",
   "metadata": {
    "id": "DBNaUkV4G6ES"
   },
   "source": [
    "Load dataset"
   ]
  },
  {
   "cell_type": "code",
   "execution_count": 1,
   "metadata": {
    "id": "ZAwhR38huemg"
   },
   "outputs": [],
   "source": [
    "# %%capture\n",
    "# !pip install ultralytics\n",
    "# !pip install roboflow\n",
    "\n",
    "# from roboflow import Roboflow\n",
    "# rf = Roboflow(api_key=\"Ql1dOvGZp8vqTAnCTntx\")\n",
    "# project = rf.workspace(\"kiyong-kang-qhti3\").project(\"plants-2l8n0\")\n",
    "# dataset = project.version(8).download(\"yolov8\")"
   ]
  },
  {
   "cell_type": "markdown",
   "metadata": {
    "id": "VU_6VasVnYW0"
   },
   "source": [
    "Import libraries"
   ]
  },
  {
   "cell_type": "code",
   "execution_count": 4,
   "metadata": {
    "id": "HRKfGYwURSND"
   },
   "outputs": [],
   "source": [
    "import os\n",
    "import shutil\n",
    "import copy\n",
    "import yaml\n",
    "from ultralytics import YOLO\n",
    "import glob\n",
    "import cv2\n",
    "import matplotlib.pyplot as plt\n",
    "import random\n",
    "from PIL import Image\n",
    "%matplotlib inline"
   ]
  },
  {
   "cell_type": "markdown",
   "metadata": {
    "id": "5Bpxb_zeHIkv"
   },
   "source": [
    "Create segmentation directory"
   ]
  },
  {
   "cell_type": "code",
   "execution_count": 3,
   "metadata": {
    "id": "JAy_q5yB5MY_"
   },
   "outputs": [],
   "source": [
    "if not os.path.exists('./Plants-seg/train/images'):\n",
    "    os.makedirs('./Plants-seg/train/images')\n",
    "\n",
    "if not os.path.exists('./Plants-seg/train/labels'):\n",
    "    os.makedirs('./Plants-seg/train/labels')\n",
    "\n",
    "if not os.path.exists('./Plants-seg/valid/images'):\n",
    "    os.makedirs('./Plants-seg/valid/images')\n",
    "\n",
    "if not os.path.exists('./Plants-seg/valid/labels'):\n",
    "    os.makedirs('./Plants-seg/valid/labels')"
   ]
  },
  {
   "cell_type": "code",
   "execution_count": 4,
   "metadata": {
    "id": "p4EpfrIB9yV2"
   },
   "outputs": [],
   "source": [
    "t_labels = os.listdir('./Plants-8/train/labels')\n",
    "v_labels = os.listdir('./Plants-8/valid/labels')\n",
    "\n",
    "train_src = './Plants-8/train'\n",
    "val_src = './Plants-8/valid'\n",
    "\n",
    "train_dir = './Plants-seg/train'\n",
    "val_dir = './Plants-seg/valid'"
   ]
  },
  {
   "cell_type": "markdown",
   "metadata": {
    "id": "PkX79OFXHhiB"
   },
   "source": [
    "Filter segmentation files"
   ]
  },
  {
   "cell_type": "code",
   "execution_count": 5,
   "metadata": {
    "id": "f8qXUV4hkFTr"
   },
   "outputs": [],
   "source": [
    "def filter_seg_files(src, labels):\n",
    "    seg_files = []\n",
    "\n",
    "    for label_name in labels:\n",
    "        filename = label_name[:-4]\n",
    "        label_dir = src + '/labels/' + filename + '.txt'\n",
    "        with open(label_dir, 'r') as f:\n",
    "            objs = f.readlines()\n",
    "\n",
    "        for obj in objs:\n",
    "            ann = obj.split()\n",
    "            if len(ann) - 1 > 4:\n",
    "                seg_files.append(filename)\n",
    "\n",
    "    seg_files = list(set(seg_files))\n",
    "\n",
    "    return seg_files"
   ]
  },
  {
   "cell_type": "code",
   "execution_count": 6,
   "metadata": {
    "id": "yTb4nj_4ADd8"
   },
   "outputs": [],
   "source": [
    "seg_t_files = filter_seg_files(train_src, t_labels)\n",
    "seg_v_files = filter_seg_files(val_src, v_labels)"
   ]
  },
  {
   "cell_type": "code",
   "execution_count": 7,
   "metadata": {
    "colab": {
     "base_uri": "https://localhost:8080/"
    },
    "id": "PH-etWEemlXB",
    "outputId": "d4a175de-1dfd-4320-d8bf-5ba25123b497"
   },
   "outputs": [
    {
     "name": "stdout",
     "output_type": "stream",
     "text": [
      "Number of train data:  1517\n",
      "Number of train tip burn data:  59\n",
      "Number of valid data:  133\n",
      "Number of valid valid data:  0\n"
     ]
    }
   ],
   "source": [
    "print('Number of train data: ', len(t_labels))\n",
    "print('Number of train tip burn data: ', len(seg_t_files))\n",
    "print('Number of valid data: ', len(v_labels))\n",
    "print('Number of valid valid data: ', len(seg_v_files))"
   ]
  },
  {
   "cell_type": "markdown",
   "metadata": {
    "id": "mJ5rJVG9Hw61"
   },
   "source": [
    "Move tip burn images/labels for segmentation"
   ]
  },
  {
   "cell_type": "code",
   "execution_count": 8,
   "metadata": {
    "id": "MZYT5tjQo6Cm"
   },
   "outputs": [],
   "source": [
    "def move_files(src, dir, files):\n",
    "    for filename in files:\n",
    "        shutil.move(src + '/images/' + filename + '.jpg', dir + '/images/' + filename + '.jpg')\n",
    "        shutil.move(src + '/labels/' + filename + '.txt', dir + '/labels/' + filename + '.txt')"
   ]
  },
  {
   "cell_type": "code",
   "execution_count": 9,
   "metadata": {
    "id": "1kejcQzT8PmR"
   },
   "outputs": [],
   "source": [
    "move_files(train_src, train_dir, seg_t_files)\n",
    "move_files(val_src, val_dir, seg_v_files)"
   ]
  },
  {
   "cell_type": "code",
   "execution_count": 10,
   "metadata": {
    "colab": {
     "base_uri": "https://localhost:8080/"
    },
    "id": "Y0fiBev68kPV",
    "outputId": "d79653e8-bc3f-4e8c-ac2a-939006bc2439"
   },
   "outputs": [
    {
     "name": "stdout",
     "output_type": "stream",
     "text": [
      "Number of train data:  1458 / 1458\n",
      "Number of valid data:  133 / 133\n",
      "Number of tipburn train images/labels:  59 / 59\n",
      "Number of tipburn valid images/labels:  0 / 0\n"
     ]
    }
   ],
   "source": [
    "print('Number of train data: ', len(os.listdir(train_src + '/images')), '/', len(os.listdir(train_src + '/labels')))\n",
    "print('Number of valid data: ', len(os.listdir(val_src + '/images')), '/', len(os.listdir(val_src + '/labels')))\n",
    "print('Number of tipburn train images/labels: ', len(os.listdir(train_dir + '/images')), '/', len(os.listdir(train_dir + '/labels')))\n",
    "print('Number of tipburn valid images/labels: ', len(os.listdir(val_dir + '/images')), '/', len(os.listdir(val_dir + '/labels')))"
   ]
  },
  {
   "cell_type": "code",
   "execution_count": 11,
   "metadata": {
    "id": "2nWM-FWTte3o"
   },
   "outputs": [],
   "source": [
    "x = os.listdir(train_dir + '/images')\n",
    "x_val = random.sample(x, 6)\n",
    "x_val = [i[:-4] for i in x_val]\n",
    "\n",
    "move_files(train_dir, val_dir, x_val)\n",
    "\n",
    "# for filename in x_val:\n",
    "#     shutil.move(train_dir + '/images/' + filename + 'jpg', val_dir + '/images/' + filename + 'jpg')\n",
    "#     shutil.move(train_dir + '/labels/' + filename + 'txt', val_dir + '/labels/' + filename + 'txt')"
   ]
  },
  {
   "cell_type": "code",
   "execution_count": 12,
   "metadata": {
    "colab": {
     "base_uri": "https://localhost:8080/"
    },
    "id": "3GvJ_nOSw3bd",
    "outputId": "efb17b29-c930-48db-96de-b40cf1936777"
   },
   "outputs": [
    {
     "name": "stdout",
     "output_type": "stream",
     "text": [
      "Number of tipburn train images/labels:  53 / 53\n",
      "Number of tipburn valid images/labels:  6 / 6\n"
     ]
    }
   ],
   "source": [
    "print('Number of tipburn train images/labels: ', len(os.listdir(train_dir + '/images')), '/', len(os.listdir(train_dir + '/labels')))\n",
    "print('Number of tipburn valid images/labels: ', len(os.listdir(val_dir + '/images')), '/', len(os.listdir(val_dir + '/labels')))"
   ]
  },
  {
   "cell_type": "code",
   "execution_count": 13,
   "metadata": {
    "id": "yo8TcO1xzhGf"
   },
   "outputs": [],
   "source": [
    "def modify_seg_files(src, labels):\n",
    "    seg_files = []\n",
    "\n",
    "    for label_name in labels:\n",
    "        filename = label_name[:-4]\n",
    "        label_dir = src + '/labels/' + filename + '.txt'\n",
    "        img_dir = src + '/images/' + filename + '.jpg'\n",
    "        with open(label_dir, 'r') as f:\n",
    "            objs = f.readlines()\n",
    "\n",
    "        n_obj_tipburn = 0\n",
    "        objs_tipburn = []\n",
    "        objs_others = []\n",
    "\n",
    "        for obj in objs:\n",
    "            if obj[0] == '0':\n",
    "                n_obj_tipburn += 1\n",
    "                objs_tipburn.append(obj)\n",
    "            else:\n",
    "                objs_others.append(obj)\n",
    "\n",
    "        if n_obj_tipburn == len(objs):\n",
    "            continue\n",
    "        elif n_obj_tipburn < len(objs) and n_obj_tipburn > 0:\n",
    "            with open(label_dir, 'w') as f2:\n",
    "                f2.writelines(objs_tipburn)\n",
    "        elif n_obj_tipburn == 0:\n",
    "            os.remove(img_dir)\n",
    "            os.remove(label_dir)"
   ]
  },
  {
   "cell_type": "code",
   "execution_count": 14,
   "metadata": {
    "id": "fUuKnBrp0412"
   },
   "outputs": [],
   "source": [
    "t_seg_labels = os.listdir('./Plants-seg/train/labels')\n",
    "v_seg_labels = os.listdir('./Plants-seg/valid/labels')\n",
    "\n",
    "modify_seg_files(train_dir, t_seg_labels)\n",
    "modify_seg_files(val_dir, v_seg_labels)"
   ]
  },
  {
   "cell_type": "code",
   "execution_count": 15,
   "metadata": {
    "colab": {
     "base_uri": "https://localhost:8080/"
    },
    "id": "tiGSu4Ny2qWu",
    "outputId": "3c26fdf0-a20f-477d-f7d7-1578474cb037"
   },
   "outputs": [
    {
     "name": "stdout",
     "output_type": "stream",
     "text": [
      "Number of tipburn train images/labels:  50 / 50\n",
      "Number of tipburn valid images/labels:  6 / 6\n"
     ]
    }
   ],
   "source": [
    "print('Number of tipburn train images/labels: ', len(os.listdir(train_dir + '/images')), '/', len(os.listdir(train_dir + '/labels')))\n",
    "print('Number of tipburn valid images/labels: ', len(os.listdir(val_dir + '/images')), '/', len(os.listdir(val_dir + '/labels')))"
   ]
  }
 ],
 "metadata": {
  "accelerator": "GPU",
  "colab": {
   "authorship_tag": "ABX9TyP39i0VRpEvDBrKU74e4zDs",
   "gpuType": "T4",
   "include_colab_link": true,
   "provenance": []
  },
  "kernelspec": {
   "display_name": "Python 3",
   "language": "python",
   "name": "python3"
  },
  "language_info": {
   "codemirror_mode": {
    "name": "ipython",
    "version": 3
   },
   "file_extension": ".py",
   "mimetype": "text/x-python",
   "name": "python",
   "nbconvert_exporter": "python",
   "pygments_lexer": "ipython3",
   "version": "3.8.3"
  }
 },
 "nbformat": 4,
 "nbformat_minor": 1
}
