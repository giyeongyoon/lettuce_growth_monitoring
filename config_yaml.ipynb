{
 "cells": [
  {
   "cell_type": "markdown",
   "metadata": {
    "id": "2yRIqoG6qJJ8"
   },
   "source": [
    "Modify config yaml for object detection\n",
    "- butterhead lettuce\n",
    "- romain lettuce"
   ]
  },
  {
   "cell_type": "code",
   "execution_count": 3,
   "metadata": {},
   "outputs": [],
   "source": [
    "import yaml"
   ]
  },
  {
   "cell_type": "code",
   "execution_count": 4,
   "metadata": {},
   "outputs": [
    {
     "data": {
      "text/plain": [
       "{'names': ['Tip_Burn', 'butterhead lettuce', 'romaine lettuce'],\n",
       " 'nc': 3,\n",
       " 'roboflow': {'license': 'CC BY 4.0',\n",
       "  'project': 'plants-2l8n0',\n",
       "  'url': 'https://universe.roboflow.com/kiyong-kang-qhti3/plants-2l8n0/dataset/8',\n",
       "  'version': 8,\n",
       "  'workspace': 'kiyong-kang-qhti3'},\n",
       " 'test': '../test/images',\n",
       " 'train': '/home/ubuntu/lettuce_growth_monitoring/Plants-8/train/images',\n",
       " 'val': '/home/ubuntu/lettuce_growth_monitoring/Plants-8/valid/images'}"
      ]
     },
     "metadata": {},
     "output_type": "display_data"
    }
   ],
   "source": [
    "with open('./Plants-8/data.yaml') as f:\n",
    "    config = yaml.load(f, Loader=yaml.FullLoader)\n",
    "    display(config)"
   ]
  },
  {
   "cell_type": "code",
   "execution_count": 5,
   "metadata": {},
   "outputs": [],
   "source": [
    "config['names'] = ['butterhead lettuce', 'romaine lettuce']\n",
    "config['nc'] = 2\n",
    "config['train'] = '/home/ubuntu/lettuce_growth_monitoring/Plants-8/train/images'\n",
    "config['val'] = '/home/ubuntu/lettuce_growth_monitoring/Plants-8/valid/images'"
   ]
  },
  {
   "cell_type": "code",
   "execution_count": 6,
   "metadata": {},
   "outputs": [],
   "source": [
    "with open('./Plants-8/data.yaml', 'w') as file:\n",
    "    yaml.dump(config, file, default_flow_style=False)"
   ]
  },
  {
   "cell_type": "markdown",
   "metadata": {},
   "source": [
    "Create config yaml for tip burn object detection"
   ]
  },
  {
   "cell_type": "code",
   "execution_count": 7,
   "metadata": {},
   "outputs": [],
   "source": [
    "config_det = {'train': '/home/ubuntu/lettuce_growth_monitoring/Plants-tipburn/train/images',\n",
    "              'val': '/home/ubuntu/lettuce_growth_monitoring/Plants-tipburn/valid/images',\n",
    "              'names': ['Tip_Burn'],\n",
    "              'nc': 1\n",
    "             }"
   ]
  },
  {
   "cell_type": "code",
   "execution_count": 8,
   "metadata": {},
   "outputs": [],
   "source": [
    "with open('./Plants-tipburn/data.yaml', 'w') as file:\n",
    "    yaml.dump(config_det, file, default_flow_style=False)"
   ]
  },
  {
   "cell_type": "markdown",
   "metadata": {
    "id": "qDI25e7mrqhg"
   },
   "source": [
    "Create config yaml for tip burn segmentation"
   ]
  },
  {
   "cell_type": "code",
   "execution_count": 9,
   "metadata": {},
   "outputs": [],
   "source": [
    "config_seg = {'train': '/home/ubuntu/lettuce_growth_monitoring/Plants-seg/train/images',\n",
    "              'val': '/home/ubuntu/lettuce_growth_monitoring/Plants-seg/valid/images',\n",
    "              'names': ['Tip_Burn'],\n",
    "              'nc': 1\n",
    "             }"
   ]
  },
  {
   "cell_type": "code",
   "execution_count": 10,
   "metadata": {},
   "outputs": [],
   "source": [
    "with open('./Plants-seg/data.yaml', 'w') as file:\n",
    "    yaml.dump(config_seg, file, default_flow_style=False)"
   ]
  },
  {
   "cell_type": "code",
   "execution_count": null,
   "metadata": {},
   "outputs": [],
   "source": []
  }
 ],
 "metadata": {
  "kernelspec": {
   "display_name": "Python 3",
   "language": "python",
   "name": "python3"
  },
  "language_info": {
   "codemirror_mode": {
    "name": "ipython",
    "version": 3
   },
   "file_extension": ".py",
   "mimetype": "text/x-python",
   "name": "python",
   "nbconvert_exporter": "python",
   "pygments_lexer": "ipython3",
   "version": "3.8.3"
  }
 },
 "nbformat": 4,
 "nbformat_minor": 4
}
